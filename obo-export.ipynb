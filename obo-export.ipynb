{
 "cells": [
  {
   "cell_type": "code",
   "execution_count": 75,
   "id": "bd777c99-a553-443a-ab5c-c523bbaedd59",
   "metadata": {},
   "outputs": [
    {
     "name": "stdout",
     "output_type": "stream",
     "text": [
      "Python 3.10.0\n"
     ]
    }
   ],
   "source": [
    "! python --version"
   ]
  },
  {
   "cell_type": "code",
   "execution_count": 76,
   "id": "86f7cc6d-b73f-4b0b-9c80-b89b714df6bc",
   "metadata": {},
   "outputs": [],
   "source": [
    "import json\n",
    "import datetime"
   ]
  },
  {
   "cell_type": "code",
   "execution_count": 77,
   "id": "5cbc363a-19a0-4a00-ab65-eafd04763e1d",
   "metadata": {},
   "outputs": [],
   "source": [
    "# Import original NeST JSON (CYJS)\n",
    "with open('./nest.json') as f:\n",
    "  nest_json = json.load(f)"
   ]
  },
  {
   "cell_type": "code",
   "execution_count": 78,
   "id": "55325fb6-52e6-4eed-9f5b-4a3aa3e794b9",
   "metadata": {},
   "outputs": [],
   "source": [
    "nodes = nest_json['elements']['nodes']\n",
    "edges = nest_json['elements']['edges']"
   ]
  },
  {
   "cell_type": "code",
   "execution_count": 79,
   "id": "acff9fca-2709-4140-9ecc-fa30cdd43d84",
   "metadata": {},
   "outputs": [],
   "source": [
    "nodeMap = {}\n",
    "idMap = {}\n",
    "\n",
    "for node in nodes:\n",
    "    data = node['data']\n",
    "    suid = data['SUID']\n",
    "    name = data['name']\n",
    "    annotation = data['Annotation']\n",
    "    nodeMap[str(suid)] = {'id': name, 'name': annotation}\n",
    "    idMap[name] = str(suid)\n",
    "\n",
    "\n",
    "edgeMap = {}\n",
    "    \n",
    "for edge in edges:\n",
    "    data = edge['data']\n",
    "    s = nodeMap[data['source']]\n",
    "    t = nodeMap[data['target']]\n",
    "\n",
    "    source = s['id']\n",
    "    target = t['id']\n",
    "\n",
    "    entry = []\n",
    "    if source in edgeMap:\n",
    "        entry = edgeMap[source]\n",
    "    else:\n",
    "        entry = []\n",
    "    \n",
    "    entry.append(target)\n",
    "    edgeMap[source] = entry\n"
   ]
  },
  {
   "cell_type": "code",
   "execution_count": 80,
   "id": "185a67b8-ddab-4225-97b3-ac786dbc68c6",
   "metadata": {},
   "outputs": [],
   "source": [
    "header = []\n",
    "t = datetime.datetime.now()\n",
    "\n",
    "header.append('format-version: 1.4\\n')\n",
    "header.append('data-version: 1.0\\n')\n",
    "header.append('date: ' + t.strftime(\"%d:%m:%Y\") + ' ' + t.strftime(\"%X\") +'\\n')\n",
    "header.append('property_value: http://purl.org/dc/elements/1.1/description \"NeST: Nested Systems in Tumors\" xsd:string\\n')\n",
    "header.append('property_value: http://purl.org/dc/elements/1.1/title \"NeST\" xsd:string\\n')\n",
    "header.append('property_value: IAO:0000700 NEST\\n\\n') # Root node\n",
    "\n",
    "terms = edgeMap.keys()\n",
    "\n",
    "outF = open(\"./fastobo_validator/nest.obo\", \"w\")\n",
    "\n",
    "# Add header\n",
    "for l in header:\n",
    "    outF.write(l)\n",
    "\n",
    "for term in terms:\n",
    "    nodeId = idMap[term]\n",
    "    node = nodeMap[nodeId]\n",
    "    name = node['name']\n",
    "    \n",
    "    line = '[Term]\\n'\n",
    "    outF.write(line)\n",
    "    line = 'id: ' + term + '\\n'\n",
    "    outF.write(line)\n",
    "    line = 'name: ' + name + '\\n'\n",
    "    outF.write(line)\n",
    "    \n",
    "    children = edgeMap[term]\n",
    "    for child in children:\n",
    "        childId = idMap[child]\n",
    "        childNode = nodeMap[childId]\n",
    "        name = childNode['name']\n",
    "        line = 'relationship: part_of ' + child + ' ! ' + name + '\\n'\n",
    "        outF.write(line)\n",
    "\n",
    "    outF.write(\"\\n\")\n",
    "\n",
    "outF.close()\n"
   ]
  },
  {
   "cell_type": "code",
   "execution_count": 81,
   "id": "9d090d6f-db40-4524-a86a-4c656c7257a8",
   "metadata": {},
   "outputs": [
    {
     "name": "stdout",
     "output_type": "stream",
     "text": [
      "\u001b[1;32m     Parsing\u001b[0m `nest.obo`\n",
      "\u001b[1;31m      Failed\u001b[0m parsing `nest.obo`\n",
      "         --> nest.obo:3:7\n",
      "          |\n",
      "        3 | date: 2021-10-21 22:16:35.496083␊\n",
      "          |       ^---\n",
      "          |\n",
      "          = expected NaiveDate\n"
     ]
    }
   ],
   "source": [
    "# Validate (Mac only)\n",
    "\n",
    "! ./fastobo_validator/fastobo-validator nest.obo"
   ]
  },
  {
   "cell_type": "code",
   "execution_count": null,
   "id": "d317c36c-bf29-4b01-899c-3c6ab018a29a",
   "metadata": {},
   "outputs": [],
   "source": []
  }
 ],
 "metadata": {
  "kernelspec": {
   "display_name": "Python 3 (ipykernel)",
   "language": "python",
   "name": "python3"
  },
  "language_info": {
   "codemirror_mode": {
    "name": "ipython",
    "version": 3
   },
   "file_extension": ".py",
   "mimetype": "text/x-python",
   "name": "python",
   "nbconvert_exporter": "python",
   "pygments_lexer": "ipython3",
   "version": "3.10.0"
  }
 },
 "nbformat": 4,
 "nbformat_minor": 5
}
