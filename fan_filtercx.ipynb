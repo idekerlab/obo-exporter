{
 "cells": [
  {
   "cell_type": "code",
   "execution_count": 1,
   "metadata": {},
   "outputs": [
    {
     "name": "stdout",
     "output_type": "stream",
     "text": [
      "Python 3.8.5\n"
     ]
    }
   ],
   "source": [
    "! python --version"
   ]
  },
  {
   "cell_type": "code",
   "execution_count": 3,
   "metadata": {},
   "outputs": [],
   "source": [
    "import json\n"
   ]
  },
  {
   "cell_type": "code",
   "execution_count": 4,
   "metadata": {},
   "outputs": [],
   "source": [
    "with open('./original.cx') as f:\n",
    "  original = json.load(f)"
   ]
  },
  {
   "cell_type": "code",
   "execution_count": 14,
   "metadata": {},
   "outputs": [],
   "source": [
    "for entry in original:\n",
    "    if 'nodes' in entry:\n",
    "        nodes = entry['nodes']\n",
    "    elif 'edges' in entry:\n",
    "        edges = entry['edges']\n",
    "    elif 'edgeAttributes' in entry:\n",
    "        edgeAttr = entry['edgeAttributes']"
   ]
  },
  {
   "cell_type": "code",
   "execution_count": 29,
   "metadata": {},
   "outputs": [
    {
     "name": "stdout",
     "output_type": "stream",
     "text": [
      "{'po': 108, 'n': 'sqrtRank', 'v': '665.2976777353127', 'd': 'double'}\n"
     ]
    },
    {
     "data": {
      "text/plain": [
       "23159896"
      ]
     },
     "execution_count": 29,
     "metadata": {},
     "output_type": "execute_result"
    }
   ],
   "source": [
    "print(edgeAttr[0])\n",
    "len(edgeAttr)\n"
   ]
  },
  {
   "cell_type": "code",
   "execution_count": 27,
   "metadata": {},
   "outputs": [],
   "source": [
    "filtered = set()\n",
    "newAttrs = []\n",
    "\n",
    "for ea in edgeAttr:\n",
    "    name = ea['n']\n",
    "    val = ea['v']\n",
    "    if name == 'edgetype' and val=='Integrated':\n",
    "        filtered.add(ea['po'])\n",
    "\n",
    "for ea in edgeAttr:\n",
    "    pointer = ea['po']\n",
    "    if pointer in filtered:\n",
    "        newAttrs.append(ea)"
   ]
  },
  {
   "cell_type": "code",
   "execution_count": 30,
   "metadata": {},
   "outputs": [
    {
     "data": {
      "text/plain": [
       "{'@id': 108, 's': 0, 't': 14592}"
      ]
     },
     "execution_count": 30,
     "metadata": {},
     "output_type": "execute_result"
    }
   ],
   "source": [
    "edges[0]"
   ]
  },
  {
   "cell_type": "code",
   "execution_count": 31,
   "metadata": {},
   "outputs": [],
   "source": [
    "filteredEdges = []\n",
    "\n",
    "for e in edges:\n",
    "    id = e['@id']\n",
    "    if id in filtered:\n",
    "        filteredEdges.append(e)"
   ]
  },
  {
   "cell_type": "code",
   "execution_count": 32,
   "metadata": {},
   "outputs": [
    {
     "data": {
      "text/plain": [
       "526207"
      ]
     },
     "execution_count": 32,
     "metadata": {},
     "output_type": "execute_result"
    }
   ],
   "source": [
    "len(filteredEdges)"
   ]
  },
  {
   "cell_type": "code",
   "execution_count": 42,
   "metadata": {},
   "outputs": [],
   "source": [
    "newCX = []\n",
    "\n",
    "for entry in original:\n",
    "    if 'edges' in entry:\n",
    "        ee = {'edges': filteredEdges}\n",
    "        newCX.append(ee)\n",
    "    elif 'edgeAttributes' in entry:\n",
    "        ea = {'edgeAttributes': newAttrs}\n",
    "        newCX.append(ea)\n",
    "    else:\n",
    "        newCX.append(entry)\n"
   ]
  },
  {
   "cell_type": "code",
   "execution_count": 43,
   "metadata": {},
   "outputs": [],
   "source": [
    "with open('filtered.cx', 'w') as json_file:\n",
    "  json.dump(newCX, json_file)"
   ]
  }
 ],
 "metadata": {
  "kernelspec": {
   "display_name": "Python 3",
   "language": "python",
   "name": "python3"
  },
  "language_info": {
   "codemirror_mode": {
    "name": "ipython",
    "version": 3
   },
   "file_extension": ".py",
   "mimetype": "text/x-python",
   "name": "python",
   "nbconvert_exporter": "python",
   "pygments_lexer": "ipython3",
   "version": "3.8.12"
  }
 },
 "nbformat": 4,
 "nbformat_minor": 4
}
